{
 "cells": [
  {
   "cell_type": "code",
   "execution_count": 1,
   "id": "ea51fad6",
   "metadata": {},
   "outputs": [],
   "source": [
    "# 加载必要的库\n",
    "import h5py\n",
    "import numpy as np\n",
    "import matplotlib.pyplot as plt\n",
    "%matplotlib inline  "
   ]
  },
  {
   "cell_type": "code",
   "execution_count": 2,
   "id": "1bc60b30",
   "metadata": {},
   "outputs": [
    {
     "name": "stdout",
     "output_type": "stream",
     "text": [
      "list_classes\n",
      "train_set_x\n",
      "train_set_y\n",
      "list_classes\n",
      "test_set_x\n",
      "test_set_y\n"
     ]
    }
   ],
   "source": [
    "# 加载数据集\n",
    "train_set = h5py.File(\"./datasets/train_catvnoncat.h5\",\"r\")\n",
    "test_set = h5py.File(\"./datasets/test_catvnoncat.h5\",\"r\")\n",
    "\n",
    "for key in train_set.keys():  # 查看训练集结构\n",
    "    print(key)   # train_set_x  train_set_y\n",
    "train_set['train_set_x'].shape # (209, 64, 64, 3) 有209张图片，图片分辨率64*64，颜色通道为3\n",
    "train_set['train_set_y'].shape # (209,) 标注图片标签（是否为猫）\n",
    "\n",
    "for key in test_set.keys():  # 查看测试集结构\n",
    "    print(key)    # test_set_x   test_set_y\n",
    "test_set['test_set_x'].shape # (50, 64, 64, 3) 有50张图片，图片分辨率64*64，颜色通道为3 \n",
    "test_set['test_set_y'].shape # (50,) 标注图片标签（是否为猫）\n",
    "\n",
    "# 将数据集中的内容和标签分开\n",
    "train_data_org = train_set['train_set_x'][:]  # 保存的是训练集里面的图像数据，即209张64x64的3通道图像\n",
    "train_labels_org = train_set['train_set_y'][:] # 保存的是训练集的图像对应的分类值，其中0表示不是猫，1表示是猫\n",
    "test_data_org = test_set['test_set_x'][:] # 保存的是测试集里面的图像数据，即50张64x64的3通道图像\n",
    "test_labels_org = test_set['test_set_y'][:] # 保存的是测试集里面的图像对应的分类值，其中0表示不是猫，1表示是猫"
   ]
  },
  {
   "cell_type": "code",
   "execution_count": 3,
   "id": "a70b3f91",
   "metadata": {},
   "outputs": [
    {
     "name": "stdout",
     "output_type": "stream",
     "text": [
      "(209, 64, 64, 3) (50, 64, 64, 3)\n",
      "(12288, 209) (12288, 50)\n",
      "(209,) (50,)\n",
      "(1, 209) (1, 50)\n"
     ]
    }
   ],
   "source": [
    "# 处理数据集------维度处理\n",
    "# 对于训练集样本：(209, 64, 64, 3) ----> (12288, 209) \n",
    "# 对于测试集样本：(50, 64, 64, 3) ----->(12288, 50)\n",
    "m_train = train_data_org.shape[0] # 训练集个数\n",
    "m_test = test_data_org.shape[0] # 测试集个数\n",
    "train_data_trans = train_data_org.reshape(m_train,-1).T # 训练集维度处理\n",
    "test_data_trans = test_data_org.reshape(m_test,-1).T # 测试集维度处理\n",
    "print(train_data_org.shape,test_data_org.shape)\n",
    "print(train_data_trans.shape,test_data_trans.shape)\n",
    "\n",
    "import numpy as np\n",
    "# 对于训练集标签：(209,) ----> (1, 209)\n",
    "# 对于测试集标签：(50,) -----> (1, 50)\n",
    "train_labels_trans = train_labels_org.reshape(1,m_train) # 训练集标签维度处理\n",
    "test_labels_trans = test_labels_org.reshape(1,m_test) # 训练集标签维度处理\n",
    "print(train_labels_org.shape,test_labels_org.shape)\n",
    "print(train_labels_trans.shape,test_labels_trans.shape)"
   ]
  },
  {
   "cell_type": "code",
   "execution_count": 4,
   "id": "0d471665",
   "metadata": {},
   "outputs": [
    {
     "name": "stdout",
     "output_type": "stream",
     "text": [
      "[[ 17 196  82 ... 143  22   8]\n",
      " [ 31 192  71 ... 155  24  28]\n",
      " [ 56 190  68 ... 165  23  53]\n",
      " ...\n",
      " [  0  82 138 ...  85   4   0]\n",
      " [  0  80 141 ... 107   5   0]\n",
      " [  0  81 142 ... 149   0   0]]\n",
      "[[0.06666667 0.76862745 0.32156863 ... 0.56078431 0.08627451 0.03137255]\n",
      " [0.12156863 0.75294118 0.27843137 ... 0.60784314 0.09411765 0.10980392]\n",
      " [0.21960784 0.74509804 0.26666667 ... 0.64705882 0.09019608 0.20784314]\n",
      " ...\n",
      " [0.         0.32156863 0.54117647 ... 0.33333333 0.01568627 0.        ]\n",
      " [0.         0.31372549 0.55294118 ... 0.41960784 0.01960784 0.        ]\n",
      " [0.         0.31764706 0.55686275 ... 0.58431373 0.         0.        ]]\n"
     ]
    }
   ],
   "source": [
    "# 处理数据集------标准化数据\n",
    "train_data_norm = train_data_trans / 255\n",
    "test_data_norm = test_data_trans / 255\n",
    "print(train_data_trans)\n",
    "print(train_data_norm)"
   ]
  },
  {
   "cell_type": "code",
   "execution_count": 5,
   "id": "5de7146f",
   "metadata": {},
   "outputs": [],
   "source": [
    "# 定义超参数\n",
    "EPOCHS = 3000\n",
    "ALPHA = 0.0075\n",
    "layers_dims = [12288,7,1] # 神经网络"
   ]
  },
  {
   "cell_type": "code",
   "execution_count": 6,
   "id": "f1830a12",
   "metadata": {},
   "outputs": [],
   "source": [
    "# 初始化参数\n",
    "def init_params(layer):\n",
    "    n_x = layers_dims[layer-1]\n",
    "    n_h = layers_dims[layer]\n",
    "    W = np.random.randn(n_h,n_x)/np.sqrt(layers_dims[layer - 1])\n",
    "    b = np.zeros((n_h,1))\n",
    "    return W,b"
   ]
  },
  {
   "cell_type": "code",
   "execution_count": 7,
   "id": "1c87a8d2",
   "metadata": {},
   "outputs": [],
   "source": [
    "# 前向和反向传播 2层\n",
    "def forward_backward(X, Y, W1, W2, b1, b2):\n",
    "    # 前向传播\n",
    "    Z1 = np.dot(W1,X)+b1\n",
    "    assert(W1.shape == (7,12288))\n",
    "    assert(b1.shape == (7,1))\n",
    "    assert(Z1.shape == (7,209))\n",
    "    A1 = np.maximum(0,Z1)\n",
    "    assert(A1.shape == (7,209))\n",
    "    Z2 = np.dot(W2,A1)+b2\n",
    "    assert(W2.shape == (1,7))\n",
    "    assert(b2.shape == (1,1))\n",
    "    assert(Z2.shape == (1,209))\n",
    "    A2 = 1/(1 + np.exp(-Z2))\n",
    "    assert(A2.shape == (1,209))\n",
    "    \n",
    "    # 计算损失\n",
    "    m = X.shape[1]\n",
    "    J = -1/m * np.sum(Y * np.log(A2) + (1-Y) * np.log(1-A2))\n",
    "    \n",
    "    # 反向传播\n",
    "    dA2 = - (np.divide(Y, A2) - np.divide(1 - Y, 1 - A2))\n",
    "    dZ2 = A2 - Y\n",
    "    dW2 = (1 / m) * np.dot(dZ2, A1.T)\n",
    "    db2 = (1 / m) * np.sum(dZ2, axis=1, keepdims=True)\n",
    "    dA1 = np.dot(W2.T, dZ2)\n",
    "    \n",
    "    dZ1 = np.array(dA1, copy=True) \n",
    "    dZ1[A1 <= 0] = 0\n",
    "    \n",
    "    dW1 = (1 / m) * np.dot(dZ1,X.T)\n",
    "    db1 = (1 / m) * np.sum(dZ1, axis=1, keepdims=True)\n",
    "    \n",
    "    # 更新梯度\n",
    "    W1 = W1 - ALPHA*dW1\n",
    "    W2 = W2 - ALPHA*dW2\n",
    "    b1 = b1 - ALPHA*db1\n",
    "    b2 = b2 - ALPHA*db2 \n",
    "    return W1, W2, b1, b2,J"
   ]
  },
  {
   "cell_type": "code",
   "execution_count": 8,
   "id": "885bd664",
   "metadata": {},
   "outputs": [],
   "source": [
    "# 预测\n",
    "def predict(W1,b1,W2,b2,X):\n",
    "    # 前向传播\n",
    "    Z1 = np.dot(W1,X)+b1\n",
    "    A1 = np.maximum(0,Z1)\n",
    "    Z2 = np.dot(W2,A1)+b2\n",
    "    A2 = 1/(1 + np.exp(-Z2))\n",
    "    \n",
    "    m = X.shape[1]\n",
    "    y_pred = np.zeros((1,m))\n",
    "    for i in range(m):\n",
    "        if A2[:,i] > 0.5:\n",
    "            y_pred[:,i] = 1\n",
    "        else:\n",
    "            y_pred[:,i] = 0\n",
    "\n",
    "    return y_pred"
   ]
  },
  {
   "cell_type": "code",
   "execution_count": 9,
   "id": "392cb166",
   "metadata": {},
   "outputs": [],
   "source": [
    "# 模型整合 \n",
    "def nn_model(X,Y,test_data_norm,test_labels_trans):\n",
    "    W1,b1 = init_params(1)\n",
    "    W2,b2 = init_params(2)\n",
    "    costs = []\n",
    "    for i in range (EPOCHS):\n",
    "        W1, W2, b1, b2, J = forward_backward(X, Y, W1, W2, b1 ,b2)\n",
    "        if i%100 == 0:\n",
    "            costs.append(J)\n",
    "            print(\"迭代次数为：\",i,\"损失是：\",J)\n",
    "    y_pred_train = predict(W1,b1,W2,b2,X)\n",
    "    y_pred_test = predict(W1,b1,W2,b2,test_data_norm)\n",
    "    print(\"训练集上的准确率：\",np.mean(y_pred_train == Y)*100,'%')\n",
    "    print(\"测试集上的准确率：\",np.mean(y_pred_test == test_labels_trans)*100,'%')\n",
    "    return costs,W1,W2,b1,b2"
   ]
  },
  {
   "cell_type": "code",
   "execution_count": 10,
   "id": "09e553e0",
   "metadata": {
    "scrolled": true
   },
   "outputs": [
    {
     "name": "stdout",
     "output_type": "stream",
     "text": [
      "迭代次数为： 0 损失是： 0.6674161620471026\n",
      "迭代次数为： 100 损失是： 0.5088904046135416\n",
      "迭代次数为： 200 损失是： 0.4244257459275634\n",
      "迭代次数为： 300 损失是： 0.36932577726615984\n",
      "迭代次数为： 400 损失是： 0.3152874621351781\n",
      "迭代次数为： 500 损失是： 0.2610005439393773\n",
      "迭代次数为： 600 损失是： 0.20739307563051282\n",
      "迭代次数为： 700 损失是： 0.15356835592927312\n",
      "迭代次数为： 800 损失是： 0.12506712414394897\n",
      "迭代次数为： 900 损失是： 0.08911258386474787\n",
      "迭代次数为： 1000 损失是： 0.07386978431377164\n",
      "迭代次数为： 1100 损失是： 0.06203475480618112\n",
      "迭代次数为： 1200 损失是： 0.05304330187796015\n",
      "迭代次数为： 1300 损失是： 0.046008737607934655\n",
      "迭代次数为： 1400 损失是： 0.04026139433123711\n",
      "迭代次数为： 1500 损失是： 0.035635167532809195\n",
      "迭代次数为： 1600 损失是： 0.031749890333046975\n",
      "迭代次数为： 1700 损失是： 0.02852467871925387\n",
      "迭代次数为： 1800 损失是： 0.02579294100821856\n",
      "迭代次数为： 1900 损失是： 0.023468076927312106\n",
      "迭代次数为： 2000 损失是： 0.021467701832006747\n",
      "迭代次数为： 2100 损失是： 0.019734542030684664\n",
      "迭代次数为： 2200 损失是： 0.018224244175711047\n",
      "迭代次数为： 2300 损失是： 0.01690068442037788\n",
      "迭代次数为： 2400 损失是： 0.015730654123692935\n",
      "迭代次数为： 2500 损失是： 0.01468821645892994\n",
      "迭代次数为： 2600 损失是： 0.013758544259377344\n",
      "迭代次数为： 2700 损失是： 0.012926674913309193\n",
      "迭代次数为： 2800 损失是： 0.012178418029866868\n",
      "迭代次数为： 2900 损失是： 0.011500034539639523\n",
      "训练集上的准确率： 100.0 %\n",
      "测试集上的准确率： 76.0 %\n"
     ]
    }
   ],
   "source": [
    "# 调用\n",
    "costs,W1,W2,b1,b2 = nn_model(train_data_norm,train_labels_trans,test_data_norm,test_labels_trans)"
   ]
  },
  {
   "cell_type": "code",
   "execution_count": 11,
   "id": "aa8f51bd",
   "metadata": {},
   "outputs": [
    {
     "data": {
      "text/plain": [
       "Text(0, 0.5, 'cost')"
      ]
     },
     "execution_count": 11,
     "metadata": {},
     "output_type": "execute_result"
    },
    {
     "data": {
      "image/png": "[encoded data removed]",
      "text/plain": [
       "<Figure size 640x480 with 1 Axes>"
      ]
     },
     "metadata": {},
     "output_type": "display_data"
    }
   ],
   "source": [
    "# 绘图\n",
    "plt.plot(costs)\n",
    "plt.xlabel(\"iters\")\n",
    "plt.ylabel(\"cost\")"
   ]
  }
 ],
 "metadata": {
  "kernelspec": {
   "display_name": "Python 3 (ipykernel)",
   "language": "python",
   "name": "python3"
  },
  "language_info": {
   "codemirror_mode": {
    "name": "ipython",
    "version": 3
   },
   "file_extension": ".py",
   "mimetype": "text/x-python",
   "name": "python",
   "nbconvert_exporter": "python",
   "pygments_lexer": "ipython3",
   "version": "3.10.9"
  }
 },
 "nbformat": 4,
 "nbformat_minor": 5
}
