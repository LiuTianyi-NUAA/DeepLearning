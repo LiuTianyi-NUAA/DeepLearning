{
 "cells": [
  {
   "cell_type": "code",
   "execution_count": 1,
   "id": "3c014aaf",
   "metadata": {},
   "outputs": [],
   "source": [
    "# 加载必要的库\n",
    "import h5py\n",
    "import numpy as np\n",
    "import matplotlib.pyplot as plt\n",
    "%matplotlib inline  "
   ]
  },
  {
   "cell_type": "code",
   "execution_count": 2,
   "id": "0f5a6d0a",
   "metadata": {},
   "outputs": [
    {
     "name": "stdout",
     "output_type": "stream",
     "text": [
      "list_classes\n",
      "train_set_x\n",
      "train_set_y\n",
      "list_classes\n",
      "test_set_x\n",
      "test_set_y\n"
     ]
    }
   ],
   "source": [
    "# 加载数据集\n",
    "train_set = h5py.File(\"./datasets/train_catvnoncat.h5\",\"r\")\n",
    "test_set = h5py.File(\"./datasets/test_catvnoncat.h5\",\"r\")\n",
    "\n",
    "for key in train_set.keys():  # 查看训练集结构\n",
    "    print(key)   # train_set_x  train_set_y\n",
    "train_set['train_set_x'].shape # (209, 64, 64, 3) 有209张图片，图片分辨率64*64，颜色通道为3\n",
    "train_set['train_set_y'].shape # (209,) 标注图片标签（是否为猫）\n",
    "\n",
    "for key in test_set.keys():  # 查看测试集结构\n",
    "    print(key)    # test_set_x   test_set_y\n",
    "test_set['test_set_x'].shape # (50, 64, 64, 3) 有50张图片，图片分辨率64*64，颜色通道为3 \n",
    "test_set['test_set_y'].shape # (50,) 标注图片标签（是否为猫）\n",
    "\n",
    "# 将数据集中的内容和标签分开\n",
    "train_data_org = train_set['train_set_x'][:]  # 保存的是训练集里面的图像数据，即209张64x64的3通道图像\n",
    "train_labels_org = train_set['train_set_y'][:] # 保存的是训练集的图像对应的分类值，其中0表示不是猫，1表示是猫\n",
    "test_data_org = test_set['test_set_x'][:] # 保存的是测试集里面的图像数据，即50张64x64的3通道图像\n",
    "test_labels_org = test_set['test_set_y'][:] # 保存的是测试集里面的图像对应的分类值，其中0表示不是猫，1表示是猫"
   ]
  },
  {
   "cell_type": "code",
   "execution_count": 3,
   "id": "8aad09bb",
   "metadata": {},
   "outputs": [
    {
     "name": "stdout",
     "output_type": "stream",
     "text": [
      "(209, 64, 64, 3) (50, 64, 64, 3)\n",
      "(12288, 209) (12288, 50)\n",
      "(209,) (50,)\n",
      "(1, 209) (1, 50)\n"
     ]
    }
   ],
   "source": [
    "# 处理数据集------维度处理\n",
    "# 对于训练集样本：(209, 64, 64, 3) ----> (12288, 209) \n",
    "# 对于测试集样本：(50, 64, 64, 3) ----->(12288, 50)\n",
    "m_train = train_data_org.shape[0] # 训练集个数\n",
    "m_test = test_data_org.shape[0] # 测试集个数\n",
    "train_data_trans = train_data_org.reshape(m_train,-1).T # 训练集维度处理\n",
    "test_data_trans = test_data_org.reshape(m_test,-1).T # 测试集维度处理\n",
    "print(train_data_org.shape,test_data_org.shape)\n",
    "print(train_data_trans.shape,test_data_trans.shape)\n",
    "\n",
    "import numpy as np\n",
    "# 对于训练集标签：(209,) ----> (1, 209)\n",
    "# 对于测试集标签：(50,) -----> (1, 50)\n",
    "train_labels_trans = train_labels_org.reshape(1,m_train) # 训练集标签维度处理\n",
    "test_labels_trans = test_labels_org.reshape(1,m_test) # 训练集标签维度处理\n",
    "print(train_labels_org.shape,test_labels_org.shape)\n",
    "print(train_labels_trans.shape,test_labels_trans.shape)"
   ]
  },
  {
   "cell_type": "code",
   "execution_count": 4,
   "id": "b982794b",
   "metadata": {},
   "outputs": [
    {
     "name": "stdout",
     "output_type": "stream",
     "text": [
      "[[ 17 196  82 ... 143  22   8]\n",
      " [ 31 192  71 ... 155  24  28]\n",
      " [ 56 190  68 ... 165  23  53]\n",
      " ...\n",
      " [  0  82 138 ...  85   4   0]\n",
      " [  0  80 141 ... 107   5   0]\n",
      " [  0  81 142 ... 149   0   0]]\n",
      "[[0.06666667 0.76862745 0.32156863 ... 0.56078431 0.08627451 0.03137255]\n",
      " [0.12156863 0.75294118 0.27843137 ... 0.60784314 0.09411765 0.10980392]\n",
      " [0.21960784 0.74509804 0.26666667 ... 0.64705882 0.09019608 0.20784314]\n",
      " ...\n",
      " [0.         0.32156863 0.54117647 ... 0.33333333 0.01568627 0.        ]\n",
      " [0.         0.31372549 0.55294118 ... 0.41960784 0.01960784 0.        ]\n",
      " [0.         0.31764706 0.55686275 ... 0.58431373 0.         0.        ]]\n"
     ]
    }
   ],
   "source": [
    "# 处理数据集------标准化数据\n",
    "train_data_norm = train_data_trans / 255\n",
    "test_data_norm = test_data_trans / 255\n",
    "print(train_data_trans)\n",
    "print(train_data_norm)"
   ]
  },
  {
   "cell_type": "code",
   "execution_count": 5,
   "id": "30550989",
   "metadata": {},
   "outputs": [],
   "source": [
    "# 定义超参数\n",
    "EPOCHS = 3000\n",
    "ALPHA = 0.0075\n",
    "layers_dims = [12288, 20, 7, 5 ,1]"
   ]
  },
  {
   "cell_type": "code",
   "execution_count": 6,
   "id": "a5721fe4",
   "metadata": {},
   "outputs": [],
   "source": [
    "# 初始化参数\n",
    "\n",
    "# 注意：！！！！！！！！！！！\n",
    "# 这里对权重矩阵初始化方法与之前几章的方法不同！！！！！\n",
    "\n",
    "def init_params(layer):\n",
    "    n_x = layers_dims[layer-1]\n",
    "    n_h = layers_dims[layer]\n",
    "    W = np.random.randn(n_h,n_x)/np.sqrt(layers_dims[layer - 1])\n",
    "    b = np.zeros((n_h,1))\n",
    "    return W,b"
   ]
  },
  {
   "cell_type": "code",
   "execution_count": 7,
   "id": "1b2fbc7c",
   "metadata": {},
   "outputs": [],
   "source": [
    "# 前向和反向传播\n",
    "def deep_forward_backward(X, Y, W1, W2, W3, W4, b1, b2, b3, b4):\n",
    "    Z1 = np.dot(W1, X) + b1\n",
    "    A1 = np.maximum(0,Z1)\n",
    "    Z2 = np.dot(W2, A1) + b2\n",
    "    A2 = np.maximum(0,Z2)\n",
    "    Z3 = np.dot(W3, A2) + b3\n",
    "    A3 = np.maximum(0,Z3)\n",
    "    Z4 = np.dot(W4, A3) + b4\n",
    "    A4 = 1/(1+np.exp(-Z4))\n",
    "    \n",
    "    m = X.shape[1]\n",
    "    cost = -np.sum(Y*np.log(A4) + (1 - Y)*np.log(1 - A4))/m\n",
    "    \n",
    "    dZ4 = A4 - Y\n",
    "    dW4 = np.dot(dZ4, A3.T)/m\n",
    "    db4 = dZ4.sum(axis = 1, keepdims = True)/m\n",
    "    dA3 = np.dot(W4.T, dZ4)\n",
    "    \n",
    "    dZ3 = np.array(dA3, copy=True) \n",
    "    dZ3[A3 <= 0] = 0\n",
    "    dW3 = np.dot(dZ3, A2.T)/m\n",
    "    db3 = dZ3.sum(axis = 1, keepdims = True)/m\n",
    "    dA2 = np.dot(W3.T, dZ3)\n",
    "    \n",
    "    dZ2 = np.array(dA2, copy=True) \n",
    "    dZ2[A2 <= 0] = 0\n",
    "    dW2 = np.dot(dZ2, A1.T)/m\n",
    "    db2 = dZ2.sum(axis = 1, keepdims = True)/m\n",
    "    dA1 = np.dot(W2.T, dZ2)\n",
    "    \n",
    "    dZ1 = np.array(dA1, copy=True) \n",
    "    dZ1[A1 <= 0] = 0\n",
    "    dW1 = np.dot(dZ1, X.T)/m\n",
    "    db1 = dZ1.sum(axis = 1, keepdims = True)/m\n",
    "    dX = np.dot(W1.T, dZ1)\n",
    "\n",
    "    W1 = W1 - ALPHA*dW1\n",
    "    W2 = W2 - ALPHA*dW2\n",
    "    W3 = W3 - ALPHA*dW3\n",
    "    W4 = W4 - ALPHA*dW4\n",
    "    b1 = b1 - ALPHA*db1\n",
    "    b2 = b2 - ALPHA*db2 \n",
    "    b3 = b3 - ALPHA*db3\n",
    "    b4 = b4 - ALPHA*db4\n",
    "    \n",
    "    return W1, W2, W3, W4, b1, b2, b3, b4,cost"
   ]
  },
  {
   "cell_type": "code",
   "execution_count": 8,
   "id": "e9a258d2",
   "metadata": {},
   "outputs": [],
   "source": [
    "# 预测\n",
    "def deep_predict( W1,W2,W3,W4,b1,b2,b3,b4,X):\n",
    "    Z1 = np.dot(W1, X) + b1\n",
    "    A1 = np.maximum(0,Z1)\n",
    "    Z2 = np.dot(W2, A1) + b2\n",
    "    A2 = np.maximum(0,Z2)\n",
    "    Z3 = np.dot(W3, A2) + b3\n",
    "    A3 = np.maximum(0,Z3)\n",
    "    Z4 = np.dot(W4, A3) + b4\n",
    "    A4 = 1/(1+np.exp(-Z4))\n",
    "    \n",
    "    m = X.shape[1]\n",
    "    y_pred = np.zeros((1,m))\n",
    "    \n",
    "    for i in range(m):\n",
    "        if A4[:,i] > 0.5:\n",
    "            y_pred[:,i] = 1\n",
    "        else:\n",
    "            y_pred[:,i] = 0\n",
    "\n",
    "    return y_pred"
   ]
  },
  {
   "cell_type": "code",
   "execution_count": 9,
   "id": "a012dfae",
   "metadata": {},
   "outputs": [],
   "source": [
    "# 模型整合 \n",
    "def deep_nn_model(X,Y,test_data_norm,test_labels_trans):\n",
    "    W1,b1 = init_params(1)\n",
    "    W2,b2 = init_params(2)\n",
    "    W3,b3 = init_params(3)\n",
    "    W4,b4 = init_params(4)\n",
    "    costs = []\n",
    "    for i in range (EPOCHS):\n",
    "        W1, W2, W3, W4, b1, b2, b3, b4,J = deep_forward_backward(X, Y, W1, W2, W3, W4, b1, b2, b3, b4)\n",
    "        if i%100 == 0:\n",
    "            costs.append(J)\n",
    "            print(\"迭代次数为：\",i,\"损失是：\",J)\n",
    "    y_pred_train = deep_predict( W1, W2, W3, W4, b1, b2, b3, b4,X)\n",
    "    y_pred_test = deep_predict( W1, W2, W3, W4, b1, b2, b3, b4,test_data_norm)\n",
    "    print(\"训练集上的准确率：\",np.mean(y_pred_train == Y)*100,'%')\n",
    "    print(\"测试集上的准确率：\",np.mean(y_pred_test == test_labels_trans)*100,'%')\n",
    "    return costs, W1, W2, W3, W4, b1, b2, b3, b4"
   ]
  },
  {
   "cell_type": "code",
   "execution_count": 10,
   "id": "8421cc73",
   "metadata": {},
   "outputs": [
    {
     "name": "stdout",
     "output_type": "stream",
     "text": [
      "迭代次数为： 0 损失是： 0.7110328141967175\n",
      "迭代次数为： 100 损失是： 0.5464297165619841\n",
      "迭代次数为： 200 损失是： 0.4761564522749003\n",
      "迭代次数为： 300 损失是： 0.41877372966927856\n",
      "迭代次数为： 400 损失是： 0.34637343219929495\n",
      "迭代次数为： 500 损失是： 0.2716252476433419\n",
      "迭代次数为： 600 损失是： 0.1676922440393075\n",
      "迭代次数为： 700 损失是： 0.09698151458498622\n",
      "迭代次数为： 800 损失是： 0.06483790717267003\n",
      "迭代次数为： 900 损失是： 0.0353123567458625\n",
      "迭代次数为： 1000 损失是： 0.025041463284740658\n",
      "迭代次数为： 1100 损失是： 0.01855960722808287\n",
      "迭代次数为： 1200 损失是： 0.01440804753592514\n",
      "迭代次数为： 1300 损失是： 0.011515500508412857\n",
      "迭代次数为： 1400 损失是： 0.009455582240767356\n",
      "迭代次数为： 1500 损失是： 0.007908282138706231\n",
      "迭代次数为： 1600 损失是： 0.006741250845756274\n",
      "迭代次数为： 1700 损失是： 0.005824590554874986\n",
      "迭代次数为： 1800 损失是： 0.005101686465076251\n",
      "迭代次数为： 1900 损失是： 0.004516415964094278\n",
      "迭代次数为： 2000 损失是： 0.0040332763196660555\n",
      "迭代次数为： 2100 损失是： 0.0036323976897031643\n",
      "迭代次数为： 2200 损失是： 0.0032942734079370426\n",
      "迭代次数为： 2300 损失是： 0.0030058985734826146\n",
      "迭代次数为： 2400 损失是： 0.0027587783938383165\n",
      "迭代次数为： 2500 损失是： 0.0025447738937371253\n",
      "迭代次数为： 2600 损失是： 0.0023574814476099524\n",
      "迭代次数为： 2700 损失是： 0.0021924959289725742\n",
      "迭代次数为： 2800 损失是： 0.0020469903466651\n",
      "迭代次数为： 2900 损失是： 0.001915945546858969\n",
      "训练集上的准确率： 100.0 %\n",
      "测试集上的准确率： 80.0 %\n"
     ]
    }
   ],
   "source": [
    "# 调用\n",
    "costs, W1, W2, W3, W4, b1, b2, b3, b4 = deep_nn_model(train_data_norm,train_labels_trans,test_data_norm,test_labels_trans)"
   ]
  },
  {
   "cell_type": "code",
   "execution_count": 11,
   "id": "fd1aa883",
   "metadata": {},
   "outputs": [
    {
     "data": {
      "text/plain": [
       "Text(0, 0.5, 'cost')"
      ]
     },
     "execution_count": 11,
     "metadata": {},
     "output_type": "execute_result"
    },
    {
     "data": {
      "image/png": "[encoded data removed]",
      "text/plain": [
       "<Figure size 640x480 with 1 Axes>"
      ]
     },
     "metadata": {},
     "output_type": "display_data"
    }
   ],
   "source": [
    "# 绘图\n",
    "plt.plot(costs)\n",
    "plt.xlabel(\"iters\")\n",
    "plt.ylabel(\"cost\")"
   ]
  },
  {
   "cell_type": "code",
   "execution_count": null,
   "id": "c7b8f694",
   "metadata": {},
   "outputs": [],
   "source": []
  }
 ],
 "metadata": {
  "kernelspec": {
   "display_name": "Python 3 (ipykernel)",
   "language": "python",
   "name": "python3"
  },
  "language_info": {
   "codemirror_mode": {
    "name": "ipython",
    "version": 3
   },
   "file_extension": ".py",
   "mimetype": "text/x-python",
   "name": "python",
   "nbconvert_exporter": "python",
   "pygments_lexer": "ipython3",
   "version": "3.10.9"
  }
 },
 "nbformat": 4,
 "nbformat_minor": 5
}
